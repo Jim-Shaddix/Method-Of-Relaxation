{
 "cells": [
  {
   "cell_type": "markdown",
   "metadata": {},
   "source": [
    "# Method of Relaxation\n",
    "* Author James Shaddix"
   ]
  },
  {
   "cell_type": "markdown",
   "metadata": {},
   "source": [
    "### Imports"
   ]
  },
  {
   "cell_type": "code",
   "execution_count": 1,
   "metadata": {
    "ExecuteTime": {
     "end_time": "2019-03-10T18:59:12.736845Z",
     "start_time": "2019-03-10T18:59:11.914403Z"
    }
   },
   "outputs": [],
   "source": [
    "import numpy as np\n",
    "\n",
    "import matplotlib.pyplot as plt\n",
    "from mpl_toolkits.mplot3d import Axes3D\n",
    "from matplotlib import cm\n",
    "from matplotlib.ticker import LinearLocator, FormatStrFormatter\n",
    "\n",
    "from numba import jit"
   ]
  },
  {
   "cell_type": "code",
   "execution_count": 2,
   "metadata": {},
   "outputs": [],
   "source": [
    "class Axis(object):\n",
    "    \n",
    "    def __init__(self, minimum, maximum, bc_min, bc_max, size, num_cells=False):\n",
    "        \"\"\"\n",
    "        :params\n",
    "        :minimum = minimum axis value\n",
    "        :maximum = maximum axis value\n",
    "        :bc_min = boundary condition at the minimum\n",
    "        :bc_max = boundary condition at the maximum\n",
    "        :size = step-size between the maximum and minimum values\n",
    "        :num_cells = if True: the size parameter will be interpreted as the number \n",
    "                     of cells along an axis.\n",
    "        \"\"\"\n",
    "        self.min = minimum\n",
    "        self.max = maximum\n",
    "        self.bc_min = bc_min\n",
    "        self.bc_max = bc_max\n",
    "        \n",
    "        if num_cells:\n",
    "            self.step_size = size\n",
    "        else:\n",
    "            self.step_size = round((maximum - minimum + 1) / size)\n",
    "            \n",
    "        self.value = np.linspace(minimum, maximum, self.step_size)\n",
    "        \n",
    "    def __str__(self):\n",
    "        string = str([\"{:.2f}\".format(v) for v in self.value])\n",
    "        return string\n",
    "    \n",
    "    def __repr__(self):\n",
    "        return self.__str__()"
   ]
  },
  {
   "cell_type": "code",
   "execution_count": 3,
   "metadata": {},
   "outputs": [],
   "source": [
    "class Grid(object):\n",
    "    \n",
    "    def __init__(self, x_ax, y_ax):\n",
    "        \"\"\"\n",
    "        :params\n",
    "        :x_ax = axis object\n",
    "        :y_ax = axis object\n",
    "        \"\"\"\n",
    "        \n",
    "        # Create Grid\n",
    "        self.X_cor, self.Y_cor = np.meshgrid(x_ax.value, y_ax.value)\n",
    "        self.Z_cor = np.zeros_like(self.X_cor)\n",
    "        \n",
    "        # Ease axis to data\n",
    "        self.shape = self.Z_cor.shape\n",
    "        \n",
    "        # Init Boundary Conditions\n",
    "        for cor, ax in zip((self.X_cor, self.Y_cor),(x_ax,y_ax)):\n",
    "            self.Z_cor[cor == ax.min] = ax.bc_min\n",
    "            self.Z_cor[cor == ax.max] = ax.bc_max\n",
    "        \n",
    "    def __str__(self):\n",
    "        v_to_str = np.vectorize(lambda x: \"{:.2f}\".format(x))\n",
    "        return str(v_to_str(self.Z_cor))\n",
    "        \n",
    "    def __repr__(self):\n",
    "        return self.__str__()\n",
    "        \n",
    "    def plot(self):\n",
    "        \n",
    "        fig = plt.figure()\n",
    "        ax = fig.gca(projection='3d')\n",
    "\n",
    "        # Plot the surface.\n",
    "        surf = ax.plot_surface(self.X_cor, self.Y_cor, self.Z_cor, \n",
    "                               antialiased=False, # False: implies cells are not shown\n",
    "                               cmap=cm.rainbow)\n",
    "\n",
    "        # Customize the z axis.\n",
    "        ax.zaxis.set_major_locator(LinearLocator(5)) # number of pointes on axis\n",
    "        ax.yaxis.set_major_locator(LinearLocator(5)) # number of pointes on axis\n",
    "        ax.xaxis.set_major_locator(LinearLocator(5)) # number of pointes on axis\n",
    "        ax.xaxis.set_major_formatter(FormatStrFormatter('%.01f')) # format axis values\n",
    "        ax.yaxis.set_major_formatter(FormatStrFormatter('%.01f')) # format axis values\n",
    "        ax.zaxis.set_major_formatter(FormatStrFormatter('%.01f')) # format axis values\n",
    "\n",
    "        # Add a color bar which maps values to colors.\n",
    "        fig.colorbar(surf, shrink=0.5, aspect=5)\n",
    "\n",
    "        ax.set_xlabel('X axis')\n",
    "        ax.set_ylabel('Y axis')\n",
    "        ax.set_zlabel('Z axis (Potential)')\n",
    "        plt.show()\n",
    "        "
   ]
  },
  {
   "cell_type": "markdown",
   "metadata": {},
   "source": [
    "### Method of Relaxation"
   ]
  },
  {
   "cell_type": "code",
   "execution_count": 33,
   "metadata": {},
   "outputs": [],
   "source": [
    "def relax(matrix, iterations):\n",
    "    rows, cols = [i-1 for i in matrix.shape]\n",
    "    for count in range(iterations):\n",
    "        for i in range(1,rows):\n",
    "            for j in range(1,cols):\n",
    "                matrix[i][j] = (matrix[i-1][j] + matrix[i][j-1]  + \\\n",
    "                                matrix[i+1][j] + matrix[i][j+1]) / 4"
   ]
  },
  {
   "cell_type": "markdown",
   "metadata": {},
   "source": [
    "### Running the Algorithm"
   ]
  },
  {
   "cell_type": "code",
   "execution_count": 34,
   "metadata": {},
   "outputs": [],
   "source": [
    "x_axis = Axis(minimum=1,  maximum=10, bc_min=1, bc_max=2, size=50,num_cells=True)\n",
    "y_axis = Axis(minimum=-2, maximum=2,  bc_min=3, bc_max=4, size=100,num_cells=True)\n",
    "grid = Grid(x_axis,y_axis)"
   ]
  },
  {
   "cell_type": "code",
   "execution_count": 32,
   "metadata": {},
   "outputs": [],
   "source": [
    "import time \n",
    "start = time.time()\n",
    "relax(grid.Z_cor, 1000)\n",
    "finish = time.time() - start"
   ]
  },
  {
   "cell_type": "markdown",
   "metadata": {},
   "source": [
    "### Plots"
   ]
  },
  {
   "cell_type": "markdown",
   "metadata": {},
   "source": [
    "### Inline Plot"
   ]
  },
  {
   "cell_type": "code",
   "execution_count": 7,
   "metadata": {
    "ExecuteTime": {
     "end_time": "2019-03-10T18:59:20.884716Z",
     "start_time": "2019-03-10T18:59:20.560185Z"
    }
   },
   "outputs": [],
   "source": [
    "%matplotlib qt\n",
    "grid.plot()"
   ]
  },
  {
   "cell_type": "markdown",
   "metadata": {},
   "source": [
    "### Plotly Plot"
   ]
  },
  {
   "cell_type": "code",
   "execution_count": 11,
   "metadata": {},
   "outputs": [
    {
     "data": {
      "text/html": [
       "<iframe id=\"igraph\" scrolling=\"no\" style=\"border:none;\" seamless=\"seamless\" src=\"https://plot.ly/~Copernicus/13.embed\" height=\"800px\" width=\"800px\"></iframe>"
      ],
      "text/plain": [
       "<plotly.tools.PlotlyDisplay object>"
      ]
     },
     "execution_count": 11,
     "metadata": {},
     "output_type": "execute_result"
    }
   ],
   "source": [
    "# Taken from the topological plot example\n",
    "import plotly.plotly as py\n",
    "import plotly.graph_objs as go\n",
    "\n",
    "data = [\n",
    "    go.Surface(\n",
    "        #z=z_data.as_matrix()\n",
    "        z = grid.Z_cor,\n",
    "        y = grid.Y_cor,\n",
    "        x = grid.X_cor,\n",
    "        colorscale='RdBu'\n",
    "    )\n",
    "]\n",
    "layout = go.Layout(\n",
    "    title='Potential (Method: Relaxation)',\n",
    "    autosize=False,\n",
    "    width=800,\n",
    "    height=800,\n",
    "    margin=dict(\n",
    "        l=65,\n",
    "        r=50,\n",
    "        b=65,\n",
    "        t=90\n",
    "    )\n",
    ")\n",
    "fig = go.Figure(data=data, layout=layout)\n",
    "py.iplot(fig, filename='elevations-3d-surface')"
   ]
  },
  {
   "cell_type": "code",
   "execution_count": null,
   "metadata": {},
   "outputs": [],
   "source": []
  }
 ],
 "metadata": {
  "kernelspec": {
   "display_name": "Python 3",
   "language": "python",
   "name": "python3"
  },
  "language_info": {
   "codemirror_mode": {
    "name": "ipython",
    "version": 3
   },
   "file_extension": ".py",
   "mimetype": "text/x-python",
   "name": "python",
   "nbconvert_exporter": "python",
   "pygments_lexer": "ipython3",
   "version": "3.7.2"
  }
 },
 "nbformat": 4,
 "nbformat_minor": 2
}
